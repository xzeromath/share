{
 "cells": [
  {
   "cell_type": "markdown",
   "id": "5bcedf71",
   "metadata": {},
   "source": [
    "## 동전 던지기 문제"
   ]
  },
  {
   "cell_type": "markdown",
   "id": "1f4cc7ca",
   "metadata": {},
   "source": [
    "<img src=\"./images/pro_y.png\" width=\"300\" >"
   ]
  },
  {
   "cell_type": "code",
   "execution_count": 2,
   "id": "781852a7",
   "metadata": {},
   "outputs": [
    {
     "data": {
      "text/plain": [
       "0.23320606070485772"
      ]
     },
     "execution_count": 2,
     "metadata": {},
     "output_type": "execute_result"
    }
   ],
   "source": [
    "import random\n",
    "random.uniform(0, 1)"
   ]
  },
  {
   "cell_type": "code",
   "execution_count": 3,
   "id": "588c5db4",
   "metadata": {},
   "outputs": [],
   "source": [
    "def depro(p):\n",
    "    \"\"\"확률p를 입력하면 \n",
    "    p의 확률로 앞면(T)이나오고 1-p의 확률로 뒷면(F)이 나오는 랜덤함수\"\"\"\n",
    "    temp = random.uniform(0,1)\n",
    "    if temp <p:\n",
    "        return True\n",
    "    else:\n",
    "        return False"
   ]
  },
  {
   "cell_type": "code",
   "execution_count": 6,
   "id": "23bcc163",
   "metadata": {},
   "outputs": [
    {
     "data": {
      "text/plain": [
       "False"
      ]
     },
     "execution_count": 6,
     "metadata": {},
     "output_type": "execute_result"
    }
   ],
   "source": [
    "depro(0.01)"
   ]
  },
  {
   "cell_type": "code",
   "execution_count": 7,
   "id": "0dbe8a6c",
   "metadata": {},
   "outputs": [],
   "source": [
    "from functools import partial"
   ]
  },
  {
   "cell_type": "code",
   "execution_count": 9,
   "id": "1b74e788",
   "metadata": {},
   "outputs": [
    {
     "data": {
      "text/plain": [
       "True"
      ]
     },
     "execution_count": 9,
     "metadata": {},
     "output_type": "execute_result"
    }
   ],
   "source": [
    "partial(depro,1)"
   ]
  },
  {
   "cell_type": "code",
   "execution_count": 11,
   "id": "84993674",
   "metadata": {},
   "outputs": [],
   "source": [
    "def gen_pq():\n",
    "    \"\"\"p와 q를 랜덤하게 선택하여 (p,q)출력\"\"\"\n",
    "    p = random.uniform(0, 1)\n",
    "    q = random.uniform(0, 1)\n",
    "    return p,q"
   ]
  },
  {
   "cell_type": "code",
   "execution_count": 19,
   "id": "2110e667",
   "metadata": {},
   "outputs": [],
   "source": [
    "dp,dq = gen_pq()"
   ]
  },
  {
   "cell_type": "code",
   "execution_count": 21,
   "id": "5dfd0886",
   "metadata": {},
   "outputs": [],
   "source": [
    "dicep = partial(depro,dp) #p의 확률로 주사위 던지기 \n",
    "diceq = partial(depro,dq) #q의 확률로 주사위 던지기"
   ]
  },
  {
   "cell_type": "code",
   "execution_count": 23,
   "id": "90a50a69",
   "metadata": {},
   "outputs": [
    {
     "data": {
      "text/plain": [
       "True"
      ]
     },
     "execution_count": 23,
     "metadata": {},
     "output_type": "execute_result"
    }
   ],
   "source": [
    "dicep()"
   ]
  },
  {
   "cell_type": "code",
   "execution_count": 24,
   "id": "bc693292",
   "metadata": {},
   "outputs": [],
   "source": [
    "n1,n2,m1,m2 = 100,120, 30,40"
   ]
  },
  {
   "cell_type": "code",
   "execution_count": 33,
   "id": "23cf075b",
   "metadata": {},
   "outputs": [],
   "source": [
    "mt =10000000\n",
    "\n",
    "su, nsu =0,0\n",
    "for _ in range(mt):\n",
    "    pnum=0\n",
    "    for i in range(n1):\n",
    "        if dicep():\n",
    "            punm = pnum+1\n",
    "    if pnum == m1:\n",
    "        qnum=0\n",
    "        for j in range(n2):\n",
    "            if diceq():\n",
    "                qnum = qnum+1\n",
    "        if qnum == m2 :\n",
    "            if dp< dq:\n",
    "                su = su+1\n",
    "            else:\n",
    "                nsu = nsu +1\n",
    "        \n",
    "        \n",
    "            \n",
    "    \n",
    "        "
   ]
  },
  {
   "cell_type": "code",
   "execution_count": 34,
   "id": "804f23ec",
   "metadata": {},
   "outputs": [
    {
     "ename": "ZeroDivisionError",
     "evalue": "division by zero",
     "output_type": "error",
     "traceback": [
      "\u001b[0;31m---------------------------------------------------------------------------\u001b[0m",
      "\u001b[0;31mZeroDivisionError\u001b[0m                         Traceback (most recent call last)",
      "\u001b[0;32m<ipython-input-34-b1ebf1bb8070>\u001b[0m in \u001b[0;36m<module>\u001b[0;34m\u001b[0m\n\u001b[0;32m----> 1\u001b[0;31m \u001b[0msu\u001b[0m\u001b[0;34m/\u001b[0m\u001b[0;34m(\u001b[0m\u001b[0msu\u001b[0m\u001b[0;34m+\u001b[0m\u001b[0mnsu\u001b[0m\u001b[0;34m)\u001b[0m\u001b[0;34m\u001b[0m\u001b[0;34m\u001b[0m\u001b[0m\n\u001b[0m",
      "\u001b[0;31mZeroDivisionError\u001b[0m: division by zero"
     ]
    }
   ],
   "source": [
    "su/(su+nsu)"
   ]
  },
  {
   "cell_type": "code",
   "execution_count": null,
   "id": "adecd37a",
   "metadata": {},
   "outputs": [],
   "source": []
  }
 ],
 "metadata": {
  "kernelspec": {
   "display_name": "Python 3",
   "language": "python",
   "name": "python3"
  },
  "language_info": {
   "codemirror_mode": {
    "name": "ipython",
    "version": 3
   },
   "file_extension": ".py",
   "mimetype": "text/x-python",
   "name": "python",
   "nbconvert_exporter": "python",
   "pygments_lexer": "ipython3",
   "version": "3.9.2"
  }
 },
 "nbformat": 4,
 "nbformat_minor": 5
}
